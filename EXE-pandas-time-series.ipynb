{
 "cells": [
  {
   "cell_type": "code",
   "execution_count": 1,
   "metadata": {},
   "outputs": [],
   "source": [
    "from datetime import datetime, date, time\n",
    "import pandas as pd\n",
    "from pandas import Series, DataFrame, Panel\n",
    "\n",
    "import matplotlib.pyplot as plt\n",
    "import matplotlib as mpl\n",
    "%matplotlib inline"
   ]
  },
  {
   "cell_type": "code",
   "execution_count": 2,
   "metadata": {},
   "outputs": [
    {
     "name": "stdout",
     "output_type": "stream",
     "text": [
      "Date,Time,Price,Volume,Exchange Code,Sales Condition,Correction Indicator,Sequence Number,Trade Stop Indicator,Source of Trade,MDS 127 / TRF (Trade Reporting Facility) (*),Exclude Record Flag,Filtered Price\n",
      "\n",
      "11/01/2011,08:04:56.364,104.55,100,P,T,00,196,N,C,,,\n",
      "\n"
     ]
    }
   ],
   "source": [
    "# Load data\n",
    "with open('time-series-data.csv', 'r') as fh:\n",
    "    print(fh.readline()) # headers\n",
    "    print(fh.readline()) # first row"
   ]
  },
  {
   "cell_type": "code",
   "execution_count": 3,
   "metadata": {},
   "outputs": [
    {
     "data": {
      "text/html": [
       "<div>\n",
       "<style scoped>\n",
       "    .dataframe tbody tr th:only-of-type {\n",
       "        vertical-align: middle;\n",
       "    }\n",
       "\n",
       "    .dataframe tbody tr th {\n",
       "        vertical-align: top;\n",
       "    }\n",
       "\n",
       "    .dataframe thead th {\n",
       "        text-align: right;\n",
       "    }\n",
       "</style>\n",
       "<table border=\"1\" class=\"dataframe\">\n",
       "  <thead>\n",
       "    <tr style=\"text-align: right;\">\n",
       "      <th></th>\n",
       "      <th>Price</th>\n",
       "      <th>Volume</th>\n",
       "      <th>Exchange Code</th>\n",
       "      <th>Sales Condition</th>\n",
       "      <th>Correction Indicator</th>\n",
       "      <th>Sequence Number</th>\n",
       "      <th>Trade Stop Indicator</th>\n",
       "      <th>Source of Trade</th>\n",
       "      <th>MDS 127 / TRF (Trade Reporting Facility) (*)</th>\n",
       "      <th>Exclude Record Flag</th>\n",
       "      <th>Filtered Price</th>\n",
       "    </tr>\n",
       "    <tr>\n",
       "      <th>Timestamp</th>\n",
       "      <th></th>\n",
       "      <th></th>\n",
       "      <th></th>\n",
       "      <th></th>\n",
       "      <th></th>\n",
       "      <th></th>\n",
       "      <th></th>\n",
       "      <th></th>\n",
       "      <th></th>\n",
       "      <th></th>\n",
       "      <th></th>\n",
       "    </tr>\n",
       "  </thead>\n",
       "  <tbody>\n",
       "    <tr>\n",
       "      <th>2011-11-01 08:04:56.364</th>\n",
       "      <td>104.55</td>\n",
       "      <td>100</td>\n",
       "      <td>P</td>\n",
       "      <td>T</td>\n",
       "      <td>0</td>\n",
       "      <td>196</td>\n",
       "      <td>N</td>\n",
       "      <td>C</td>\n",
       "      <td>NaN</td>\n",
       "      <td>NaN</td>\n",
       "      <td>NaN</td>\n",
       "    </tr>\n",
       "    <tr>\n",
       "      <th>2011-11-01 08:53:07.459</th>\n",
       "      <td>104.43</td>\n",
       "      <td>150</td>\n",
       "      <td>T</td>\n",
       "      <td>FT</td>\n",
       "      <td>0</td>\n",
       "      <td>316</td>\n",
       "      <td>N</td>\n",
       "      <td>C</td>\n",
       "      <td>NaN</td>\n",
       "      <td>NaN</td>\n",
       "      <td>NaN</td>\n",
       "    </tr>\n",
       "    <tr>\n",
       "      <th>2011-11-01 08:53:09.284</th>\n",
       "      <td>104.43</td>\n",
       "      <td>100</td>\n",
       "      <td>T</td>\n",
       "      <td>FT</td>\n",
       "      <td>0</td>\n",
       "      <td>317</td>\n",
       "      <td>N</td>\n",
       "      <td>C</td>\n",
       "      <td>NaN</td>\n",
       "      <td>NaN</td>\n",
       "      <td>NaN</td>\n",
       "    </tr>\n",
       "    <tr>\n",
       "      <th>2011-11-01 08:54:03.921</th>\n",
       "      <td>104.50</td>\n",
       "      <td>100</td>\n",
       "      <td>P</td>\n",
       "      <td>FT</td>\n",
       "      <td>0</td>\n",
       "      <td>318</td>\n",
       "      <td>N</td>\n",
       "      <td>C</td>\n",
       "      <td>NaN</td>\n",
       "      <td>NaN</td>\n",
       "      <td>NaN</td>\n",
       "    </tr>\n",
       "    <tr>\n",
       "      <th>2011-11-01 08:58:06.162</th>\n",
       "      <td>104.46</td>\n",
       "      <td>1000</td>\n",
       "      <td>Z</td>\n",
       "      <td>T</td>\n",
       "      <td>0</td>\n",
       "      <td>322</td>\n",
       "      <td>N</td>\n",
       "      <td>C</td>\n",
       "      <td>NaN</td>\n",
       "      <td>NaN</td>\n",
       "      <td>NaN</td>\n",
       "    </tr>\n",
       "  </tbody>\n",
       "</table>\n",
       "</div>"
      ],
      "text/plain": [
       "                          Price  Volume Exchange Code Sales Condition  \\\n",
       "Timestamp                                                               \n",
       "2011-11-01 08:04:56.364  104.55     100             P               T   \n",
       "2011-11-01 08:53:07.459  104.43     150             T              FT   \n",
       "2011-11-01 08:53:09.284  104.43     100             T              FT   \n",
       "2011-11-01 08:54:03.921  104.50     100             P              FT   \n",
       "2011-11-01 08:58:06.162  104.46    1000             Z               T   \n",
       "\n",
       "                         Correction Indicator  Sequence Number  \\\n",
       "Timestamp                                                        \n",
       "2011-11-01 08:04:56.364                     0              196   \n",
       "2011-11-01 08:53:07.459                     0              316   \n",
       "2011-11-01 08:53:09.284                     0              317   \n",
       "2011-11-01 08:54:03.921                     0              318   \n",
       "2011-11-01 08:58:06.162                     0              322   \n",
       "\n",
       "                        Trade Stop Indicator Source of Trade  \\\n",
       "Timestamp                                                      \n",
       "2011-11-01 08:04:56.364                    N               C   \n",
       "2011-11-01 08:53:07.459                    N               C   \n",
       "2011-11-01 08:53:09.284                    N               C   \n",
       "2011-11-01 08:54:03.921                    N               C   \n",
       "2011-11-01 08:58:06.162                    N               C   \n",
       "\n",
       "                        MDS 127 / TRF (Trade Reporting Facility) (*)  \\\n",
       "Timestamp                                                              \n",
       "2011-11-01 08:04:56.364                                          NaN   \n",
       "2011-11-01 08:53:07.459                                          NaN   \n",
       "2011-11-01 08:53:09.284                                          NaN   \n",
       "2011-11-01 08:54:03.921                                          NaN   \n",
       "2011-11-01 08:58:06.162                                          NaN   \n",
       "\n",
       "                        Exclude Record Flag  Filtered Price  \n",
       "Timestamp                                                    \n",
       "2011-11-01 08:04:56.364                 NaN             NaN  \n",
       "2011-11-01 08:53:07.459                 NaN             NaN  \n",
       "2011-11-01 08:53:09.284                 NaN             NaN  \n",
       "2011-11-01 08:54:03.921                 NaN             NaN  \n",
       "2011-11-01 08:58:06.162                 NaN             NaN  "
      ]
     },
     "execution_count": 3,
     "metadata": {},
     "output_type": "execute_result"
    }
   ],
   "source": [
    "data = pd.read_csv('time-series-data.csv', \n",
    "                    parse_dates={'Timestamp': ['Date', 'Time']},\n",
    "                    index_col='Timestamp')\n",
    "data.head()"
   ]
  },
  {
   "cell_type": "code",
   "execution_count": 4,
   "metadata": {},
   "outputs": [
    {
     "name": "stdout",
     "output_type": "stream",
     "text": [
      "<class 'pandas.core.frame.DataFrame'>\n",
      "DatetimeIndex: 14632 entries, 2011-11-01 08:04:56.364000 to 2011-11-03 16:09:47.834000\n",
      "Data columns (total 11 columns):\n",
      "Price                                           14632 non-null float64\n",
      "Volume                                          14632 non-null int64\n",
      "Exchange Code                                   14632 non-null object\n",
      "Sales Condition                                 14632 non-null object\n",
      "Correction Indicator                            14632 non-null int64\n",
      "Sequence Number                                 14632 non-null int64\n",
      "Trade Stop Indicator                            14632 non-null object\n",
      "Source of Trade                                 14632 non-null object\n",
      "MDS 127 / TRF (Trade Reporting Facility) (*)    2421 non-null object\n",
      "Exclude Record Flag                             28 non-null object\n",
      "Filtered Price                                  0 non-null float64\n",
      "dtypes: float64(2), int64(3), object(6)\n",
      "memory usage: 1.3+ MB\n"
     ]
    }
   ],
   "source": [
    "data.info()"
   ]
  },
  {
   "cell_type": "code",
   "execution_count": 5,
   "metadata": {},
   "outputs": [
    {
     "data": {
      "text/html": [
       "<div>\n",
       "<style scoped>\n",
       "    .dataframe tbody tr th:only-of-type {\n",
       "        vertical-align: middle;\n",
       "    }\n",
       "\n",
       "    .dataframe tbody tr th {\n",
       "        vertical-align: top;\n",
       "    }\n",
       "\n",
       "    .dataframe thead th {\n",
       "        text-align: right;\n",
       "    }\n",
       "</style>\n",
       "<table border=\"1\" class=\"dataframe\">\n",
       "  <thead>\n",
       "    <tr style=\"text-align: right;\">\n",
       "      <th></th>\n",
       "      <th>Price</th>\n",
       "      <th>Volume</th>\n",
       "    </tr>\n",
       "    <tr>\n",
       "      <th>Timestamp</th>\n",
       "      <th></th>\n",
       "      <th></th>\n",
       "    </tr>\n",
       "  </thead>\n",
       "  <tbody>\n",
       "    <tr>\n",
       "      <th>2011-11-01 08:04:56.364</th>\n",
       "      <td>104.55</td>\n",
       "      <td>100</td>\n",
       "    </tr>\n",
       "    <tr>\n",
       "      <th>2011-11-01 08:53:07.459</th>\n",
       "      <td>104.43</td>\n",
       "      <td>150</td>\n",
       "    </tr>\n",
       "    <tr>\n",
       "      <th>2011-11-01 08:53:09.284</th>\n",
       "      <td>104.43</td>\n",
       "      <td>100</td>\n",
       "    </tr>\n",
       "    <tr>\n",
       "      <th>2011-11-01 08:54:03.921</th>\n",
       "      <td>104.50</td>\n",
       "      <td>100</td>\n",
       "    </tr>\n",
       "    <tr>\n",
       "      <th>2011-11-01 08:58:06.162</th>\n",
       "      <td>104.46</td>\n",
       "      <td>1000</td>\n",
       "    </tr>\n",
       "  </tbody>\n",
       "</table>\n",
       "</div>"
      ],
      "text/plain": [
       "                          Price  Volume\n",
       "Timestamp                              \n",
       "2011-11-01 08:04:56.364  104.55     100\n",
       "2011-11-01 08:53:07.459  104.43     150\n",
       "2011-11-01 08:53:09.284  104.43     100\n",
       "2011-11-01 08:54:03.921  104.50     100\n",
       "2011-11-01 08:58:06.162  104.46    1000"
      ]
     },
     "execution_count": 5,
     "metadata": {},
     "output_type": "execute_result"
    }
   ],
   "source": [
    "ticks = data[['Price', 'Volume']]\n",
    "ticks.head()"
   ]
  },
  {
   "cell_type": "code",
   "execution_count": 6,
   "metadata": {},
   "outputs": [
    {
     "data": {
      "text/html": [
       "<div>\n",
       "<style scoped>\n",
       "    .dataframe tbody tr th:only-of-type {\n",
       "        vertical-align: middle;\n",
       "    }\n",
       "\n",
       "    .dataframe tbody tr th {\n",
       "        vertical-align: top;\n",
       "    }\n",
       "\n",
       "    .dataframe thead th {\n",
       "        text-align: right;\n",
       "    }\n",
       "</style>\n",
       "<table border=\"1\" class=\"dataframe\">\n",
       "  <thead>\n",
       "    <tr style=\"text-align: right;\">\n",
       "      <th></th>\n",
       "      <th>open</th>\n",
       "      <th>high</th>\n",
       "      <th>low</th>\n",
       "      <th>close</th>\n",
       "    </tr>\n",
       "    <tr>\n",
       "      <th>Timestamp</th>\n",
       "      <th></th>\n",
       "      <th></th>\n",
       "      <th></th>\n",
       "      <th></th>\n",
       "    </tr>\n",
       "  </thead>\n",
       "  <tbody>\n",
       "    <tr>\n",
       "      <th>2011-11-01 08:04:00</th>\n",
       "      <td>104.55</td>\n",
       "      <td>104.55</td>\n",
       "      <td>104.55</td>\n",
       "      <td>104.55</td>\n",
       "    </tr>\n",
       "    <tr>\n",
       "      <th>2011-11-01 08:05:00</th>\n",
       "      <td>NaN</td>\n",
       "      <td>NaN</td>\n",
       "      <td>NaN</td>\n",
       "      <td>NaN</td>\n",
       "    </tr>\n",
       "    <tr>\n",
       "      <th>2011-11-01 08:06:00</th>\n",
       "      <td>NaN</td>\n",
       "      <td>NaN</td>\n",
       "      <td>NaN</td>\n",
       "      <td>NaN</td>\n",
       "    </tr>\n",
       "    <tr>\n",
       "      <th>2011-11-01 08:07:00</th>\n",
       "      <td>NaN</td>\n",
       "      <td>NaN</td>\n",
       "      <td>NaN</td>\n",
       "      <td>NaN</td>\n",
       "    </tr>\n",
       "    <tr>\n",
       "      <th>2011-11-01 08:08:00</th>\n",
       "      <td>NaN</td>\n",
       "      <td>NaN</td>\n",
       "      <td>NaN</td>\n",
       "      <td>NaN</td>\n",
       "    </tr>\n",
       "    <tr>\n",
       "      <th>2011-11-01 08:09:00</th>\n",
       "      <td>NaN</td>\n",
       "      <td>NaN</td>\n",
       "      <td>NaN</td>\n",
       "      <td>NaN</td>\n",
       "    </tr>\n",
       "    <tr>\n",
       "      <th>2011-11-01 08:10:00</th>\n",
       "      <td>NaN</td>\n",
       "      <td>NaN</td>\n",
       "      <td>NaN</td>\n",
       "      <td>NaN</td>\n",
       "    </tr>\n",
       "    <tr>\n",
       "      <th>2011-11-01 08:11:00</th>\n",
       "      <td>NaN</td>\n",
       "      <td>NaN</td>\n",
       "      <td>NaN</td>\n",
       "      <td>NaN</td>\n",
       "    </tr>\n",
       "    <tr>\n",
       "      <th>2011-11-01 08:12:00</th>\n",
       "      <td>NaN</td>\n",
       "      <td>NaN</td>\n",
       "      <td>NaN</td>\n",
       "      <td>NaN</td>\n",
       "    </tr>\n",
       "    <tr>\n",
       "      <th>2011-11-01 08:13:00</th>\n",
       "      <td>NaN</td>\n",
       "      <td>NaN</td>\n",
       "      <td>NaN</td>\n",
       "      <td>NaN</td>\n",
       "    </tr>\n",
       "  </tbody>\n",
       "</table>\n",
       "</div>"
      ],
      "text/plain": [
       "                       open    high     low   close\n",
       "Timestamp                                          \n",
       "2011-11-01 08:04:00  104.55  104.55  104.55  104.55\n",
       "2011-11-01 08:05:00     NaN     NaN     NaN     NaN\n",
       "2011-11-01 08:06:00     NaN     NaN     NaN     NaN\n",
       "2011-11-01 08:07:00     NaN     NaN     NaN     NaN\n",
       "2011-11-01 08:08:00     NaN     NaN     NaN     NaN\n",
       "2011-11-01 08:09:00     NaN     NaN     NaN     NaN\n",
       "2011-11-01 08:10:00     NaN     NaN     NaN     NaN\n",
       "2011-11-01 08:11:00     NaN     NaN     NaN     NaN\n",
       "2011-11-01 08:12:00     NaN     NaN     NaN     NaN\n",
       "2011-11-01 08:13:00     NaN     NaN     NaN     NaN"
      ]
     },
     "execution_count": 6,
     "metadata": {},
     "output_type": "execute_result"
    }
   ],
   "source": [
    "# resample\n",
    "bars = ticks.Price.resample('1min').ohlc()\n",
    "bars.head(10)"
   ]
  },
  {
   "cell_type": "code",
   "execution_count": 7,
   "metadata": {},
   "outputs": [
    {
     "name": "stdout",
     "output_type": "stream",
     "text": [
      "<class 'pandas.core.frame.DataFrame'>\n",
      "DatetimeIndex: 3366 entries, 2011-11-01 08:04:00 to 2011-11-03 16:09:00\n",
      "Freq: T\n",
      "Data columns (total 4 columns):\n",
      "open     1104 non-null float64\n",
      "high     1104 non-null float64\n",
      "low      1104 non-null float64\n",
      "close    1104 non-null float64\n",
      "dtypes: float64(4)\n",
      "memory usage: 131.5 KB\n"
     ]
    }
   ],
   "source": [
    "bars.info()"
   ]
  },
  {
   "cell_type": "code",
   "execution_count": 8,
   "metadata": {},
   "outputs": [
    {
     "data": {
      "text/plain": [
       "count    1104.000000\n",
       "mean        0.017898\n",
       "std         0.018568\n",
       "min         0.000000\n",
       "25%         0.000875\n",
       "50%         0.013900\n",
       "75%         0.029000\n",
       "max         0.150000\n",
       "dtype: float64"
      ]
     },
     "execution_count": 8,
     "metadata": {},
     "output_type": "execute_result"
    }
   ],
   "source": [
    "minute_range = bars.high - bars.low\n",
    "minute_range.describe()"
   ]
  },
  {
   "cell_type": "code",
   "execution_count": 9,
   "metadata": {},
   "outputs": [
    {
     "data": {
      "text/plain": [
       "count    1104.000000\n",
       "mean        0.000003\n",
       "std         0.000191\n",
       "min        -0.001442\n",
       "25%        -0.000096\n",
       "50%         0.000000\n",
       "75%         0.000096\n",
       "max         0.000962\n",
       "dtype: float64"
      ]
     },
     "execution_count": 9,
     "metadata": {},
     "output_type": "execute_result"
    }
   ],
   "source": [
    "minute_return = bars.close / bars.open - 1\n",
    "minute_return.describe()"
   ]
  },
  {
   "cell_type": "code",
   "execution_count": 10,
   "metadata": {},
   "outputs": [
    {
     "data": {
      "text/plain": [
       "Timestamp\n",
       "2011-11-01 08:04:00    104.55\n",
       "2011-11-01 08:05:00       NaN\n",
       "2011-11-01 08:06:00       NaN\n",
       "2011-11-01 08:07:00       NaN\n",
       "2011-11-01 08:08:00       NaN\n",
       "                        ...  \n",
       "2011-11-03 16:05:00       NaN\n",
       "2011-11-03 16:06:00    103.80\n",
       "2011-11-03 16:07:00       NaN\n",
       "2011-11-03 16:08:00       NaN\n",
       "2011-11-03 16:09:00    103.81\n",
       "Freq: T, Length: 3366, dtype: float64"
      ]
     },
     "execution_count": 10,
     "metadata": {},
     "output_type": "execute_result"
    }
   ],
   "source": [
    "volume = ticks.Volume.resample('1min').sum()\n",
    "value = ticks.prod(axis=1).resample('1min').sum()\n",
    "vwap = value / volume\n",
    "vwap"
   ]
  },
  {
   "cell_type": "code",
   "execution_count": 11,
   "metadata": {},
   "outputs": [
    {
     "data": {
      "text/plain": [
       "Timestamp\n",
       "2011-11-01 09:27:00           NaN\n",
       "2011-11-01 09:28:00    104.170000\n",
       "2011-11-01 09:29:00    103.300800\n",
       "2011-11-01 09:30:00    104.231368\n",
       "2011-11-01 09:31:00    104.236679\n",
       "2011-11-01 09:32:00    104.210000\n",
       "Freq: T, dtype: float64"
      ]
     },
     "execution_count": 11,
     "metadata": {},
     "output_type": "execute_result"
    }
   ],
   "source": [
    "# indexing\n",
    "vwap['2011-11-01 09:27':'2011-11-01 09:32']"
   ]
  },
  {
   "cell_type": "code",
   "execution_count": 12,
   "metadata": {},
   "outputs": [
    {
     "data": {
      "text/plain": [
       "Timestamp\n",
       "2011-11-01 09:30:00    104.23\n",
       "2011-11-02 09:30:00    103.90\n",
       "2011-11-03 09:30:00    103.80\n",
       "Freq: 1440T, Name: open, dtype: float64"
      ]
     },
     "execution_count": 12,
     "metadata": {},
     "output_type": "execute_result"
    }
   ],
   "source": [
    "# at time\n",
    "bars.open.at_time('9:30')"
   ]
  },
  {
   "cell_type": "code",
   "execution_count": 13,
   "metadata": {},
   "outputs": [
    {
     "data": {
      "text/plain": [
       "Timestamp\n",
       "2011-11-01 10:00:00    104.245387\n",
       "2011-11-01 10:01:00    104.170771\n",
       "2011-11-01 10:02:00    104.170000\n",
       "2011-11-01 10:03:00    104.160952\n",
       "2011-11-01 10:04:00    104.110870\n",
       "2011-11-01 10:05:00    104.093576\n",
       "2011-11-01 10:06:00    104.145132\n",
       "2011-11-01 10:07:00    104.157924\n",
       "2011-11-01 10:08:00    104.154646\n",
       "2011-11-01 10:09:00    104.150756\n",
       "2011-11-01 10:10:00    104.182591\n",
       "2011-11-01 10:11:00    104.116803\n",
       "2011-11-01 10:12:00    104.092174\n",
       "2011-11-01 10:13:00    104.067768\n",
       "2011-11-01 10:14:00    104.070000\n",
       "2011-11-01 10:15:00    104.073333\n",
       "2011-11-01 10:16:00    104.080906\n",
       "2011-11-01 10:17:00    104.082566\n",
       "2011-11-01 10:18:00    104.085140\n",
       "2011-11-01 10:19:00    104.084613\n",
       "dtype: float64"
      ]
     },
     "execution_count": 13,
     "metadata": {},
     "output_type": "execute_result"
    }
   ],
   "source": [
    "# between\n",
    "filtered = vwap.between_time('10:00', '16:00')\n",
    "filtered.head(20)"
   ]
  },
  {
   "cell_type": "code",
   "execution_count": 14,
   "metadata": {},
   "outputs": [
    {
     "data": {
      "text/plain": [
       "Timestamp\n",
       "2011-11-03 10:00:00    103.968667\n",
       "2011-11-03 10:01:00           NaN\n",
       "2011-11-03 10:02:00    103.997500\n",
       "2011-11-03 10:03:00    104.044295\n",
       "2011-11-03 10:04:00           NaN\n",
       "2011-11-03 10:05:00    104.135118\n",
       "2011-11-03 10:06:00    104.130000\n",
       "2011-11-03 10:07:00    104.120000\n",
       "2011-11-03 10:08:00    104.101250\n",
       "2011-11-03 10:09:00           NaN\n",
       "2011-11-03 10:10:00           NaN\n",
       "2011-11-03 10:11:00           NaN\n",
       "2011-11-03 10:12:00           NaN\n",
       "2011-11-03 10:13:00    104.086667\n",
       "2011-11-03 10:14:00    104.049200\n",
       "2011-11-03 10:15:00    104.028333\n",
       "2011-11-03 10:16:00    103.976438\n",
       "2011-11-03 10:17:00    103.912492\n",
       "2011-11-03 10:18:00           NaN\n",
       "2011-11-03 10:19:00    103.870000\n",
       "dtype: float64"
      ]
     },
     "execution_count": 14,
     "metadata": {},
     "output_type": "execute_result"
    }
   ],
   "source": [
    "# missing data\n",
    "filtered['2011-11-03':'2011-11-04'].head(20)"
   ]
  },
  {
   "cell_type": "code",
   "execution_count": 15,
   "metadata": {},
   "outputs": [
    {
     "data": {
      "text/plain": [
       "Timestamp\n",
       "2011-11-03 10:00:00    103.968667\n",
       "2011-11-03 10:01:00    103.968667\n",
       "2011-11-03 10:02:00    103.997500\n",
       "2011-11-03 10:03:00    104.044295\n",
       "2011-11-03 10:04:00    104.044295\n",
       "2011-11-03 10:05:00    104.135118\n",
       "2011-11-03 10:06:00    104.130000\n",
       "2011-11-03 10:07:00    104.120000\n",
       "2011-11-03 10:08:00    104.101250\n",
       "2011-11-03 10:09:00    104.101250\n",
       "2011-11-03 10:10:00           NaN\n",
       "2011-11-03 10:11:00           NaN\n",
       "2011-11-03 10:12:00           NaN\n",
       "2011-11-03 10:13:00    104.086667\n",
       "2011-11-03 10:14:00    104.049200\n",
       "2011-11-03 10:15:00    104.028333\n",
       "2011-11-03 10:16:00    103.976438\n",
       "2011-11-03 10:17:00    103.912492\n",
       "2011-11-03 10:18:00    103.912492\n",
       "2011-11-03 10:19:00    103.870000\n",
       "dtype: float64"
      ]
     },
     "execution_count": 15,
     "metadata": {},
     "output_type": "execute_result"
    }
   ],
   "source": [
    "# remove NaN\n",
    "filled = filtered.fillna(method='pad', limit=1)\n",
    "filled['2011-11-03':'2011-11-04'].head(20)"
   ]
  },
  {
   "cell_type": "code",
   "execution_count": 16,
   "metadata": {},
   "outputs": [
    {
     "data": {
      "text/plain": [
       "Timestamp\n",
       "2011-11-01 10:00:00    104.245387\n",
       "2011-11-01 10:01:00    104.170771\n",
       "2011-11-01 10:02:00    104.170000\n",
       "2011-11-01 10:03:00    104.160952\n",
       "2011-11-01 10:04:00    104.110870\n",
       "2011-11-01 10:05:00    104.093576\n",
       "2011-11-01 10:06:00    104.145132\n",
       "2011-11-01 10:07:00    104.157924\n",
       "2011-11-01 10:08:00    104.154646\n",
       "2011-11-01 10:09:00    104.150756\n",
       "2011-11-01 10:10:00    104.182591\n",
       "2011-11-01 10:11:00    104.116803\n",
       "2011-11-01 10:12:00    104.092174\n",
       "2011-11-01 10:13:00    104.067768\n",
       "2011-11-01 10:14:00    104.070000\n",
       "2011-11-01 10:15:00    104.073333\n",
       "2011-11-01 10:16:00    104.080906\n",
       "2011-11-01 10:17:00    104.082566\n",
       "2011-11-01 10:18:00    104.085140\n",
       "2011-11-01 10:19:00    104.084613\n",
       "dtype: float64"
      ]
     },
     "execution_count": 16,
     "metadata": {},
     "output_type": "execute_result"
    }
   ],
   "source": [
    "filtered.fillna(0).head(20)"
   ]
  },
  {
   "cell_type": "code",
   "execution_count": 17,
   "metadata": {},
   "outputs": [
    {
     "data": {
      "text/plain": [
       "Timestamp\n",
       "2011-11-01 10:00:00    18767\n",
       "2011-11-01 10:01:00    67287\n",
       "2011-11-01 10:02:00     2000\n",
       "2011-11-01 10:03:00     2100\n",
       "2011-11-01 10:04:00     2300\n",
       "2011-11-01 10:05:00    11509\n",
       "2011-11-01 10:06:00     3526\n",
       "2011-11-01 10:07:00      734\n",
       "2011-11-01 10:08:00     1106\n",
       "2011-11-01 10:09:00     1800\n",
       "2011-11-01 10:10:00     1760\n",
       "2011-11-01 10:11:00     2961\n",
       "2011-11-01 10:12:00     2300\n",
       "2011-11-01 10:13:00     5818\n",
       "2011-11-01 10:14:00      200\n",
       "2011-11-01 10:15:00      600\n",
       "2011-11-01 10:16:00     1040\n",
       "2011-11-01 10:17:00     1576\n",
       "2011-11-01 10:18:00     2813\n",
       "2011-11-01 10:19:00      640\n",
       "Name: Volume, dtype: int64"
      ]
     },
     "execution_count": 17,
     "metadata": {},
     "output_type": "execute_result"
    }
   ],
   "source": [
    "vol = volume.between_time('10:00', '16:00')\n",
    "vol.head(20)"
   ]
  },
  {
   "cell_type": "code",
   "execution_count": 18,
   "metadata": {},
   "outputs": [
    {
     "data": {
      "text/plain": [
       "Timestamp\n",
       "2011-11-01 10:00:00    18767\n",
       "2011-11-01 10:01:00    67287\n",
       "2011-11-01 10:02:00     2000\n",
       "2011-11-01 10:03:00     2100\n",
       "2011-11-01 10:04:00     2300\n",
       "2011-11-01 10:05:00    11509\n",
       "2011-11-01 10:06:00     3526\n",
       "2011-11-01 10:07:00      734\n",
       "2011-11-01 10:08:00     1106\n",
       "2011-11-01 10:09:00     1800\n",
       "2011-11-01 10:10:00     1760\n",
       "2011-11-01 10:11:00     2961\n",
       "2011-11-01 10:12:00     2300\n",
       "2011-11-01 10:13:00     5818\n",
       "2011-11-01 10:14:00      200\n",
       "2011-11-01 10:15:00      600\n",
       "2011-11-01 10:16:00     1040\n",
       "2011-11-01 10:17:00     1576\n",
       "2011-11-01 10:18:00     2813\n",
       "2011-11-01 10:19:00      640\n",
       "Name: Volume, dtype: int64"
      ]
     },
     "execution_count": 18,
     "metadata": {},
     "output_type": "execute_result"
    }
   ],
   "source": [
    "vol = vol.fillna(0.)\n",
    "vol.head(20)"
   ]
  },
  {
   "cell_type": "code",
   "execution_count": 19,
   "metadata": {},
   "outputs": [
    {
     "data": {
      "image/png": "[encoded data removed]",
      "text/plain": [
       "<Figure size 432x288 with 1 Axes>"
      ]
     },
     "metadata": {
      "needs_background": "light"
     },
     "output_type": "display_data"
    }
   ],
   "source": [
    "# plot\n",
    "filled['2011-11-03':'2011-11-04'].plot()\n",
    "plt.ylim(103.5, 104.5)\n",
    "plt.show()"
   ]
  },
  {
   "cell_type": "code",
   "execution_count": 20,
   "metadata": {},
   "outputs": [
    {
     "data": {
      "image/png": "[encoded data removed]",
      "text/plain": [
       "<Figure size 432x288 with 2 Axes>"
      ]
     },
     "metadata": {
      "needs_background": "light"
     },
     "output_type": "display_data"
    }
   ],
   "source": [
    "vwap['2011-11-03':'2011-11-04'].plot()\n",
    "plt.ylim(103.5, 104.5)\n",
    "vol['2011-11-03':'2011-11-04'].plot(secondary_y=True, style='r')\n",
    "plt.show()"
   ]
  },
  {
   "cell_type": "code",
   "execution_count": 21,
   "metadata": {},
   "outputs": [
    {
     "data": {
      "text/html": [
       "<div>\n",
       "<style scoped>\n",
       "    .dataframe tbody tr th:only-of-type {\n",
       "        vertical-align: middle;\n",
       "    }\n",
       "\n",
       "    .dataframe tbody tr th {\n",
       "        vertical-align: top;\n",
       "    }\n",
       "\n",
       "    .dataframe thead th {\n",
       "        text-align: right;\n",
       "    }\n",
       "</style>\n",
       "<table border=\"1\" class=\"dataframe\">\n",
       "  <thead>\n",
       "    <tr style=\"text-align: right;\">\n",
       "      <th></th>\n",
       "      <th>Price</th>\n",
       "      <th>Volume</th>\n",
       "    </tr>\n",
       "    <tr>\n",
       "      <th>Timestamp</th>\n",
       "      <th></th>\n",
       "      <th></th>\n",
       "    </tr>\n",
       "  </thead>\n",
       "  <tbody>\n",
       "    <tr>\n",
       "      <th>2011-11-01 08:04:56.364</th>\n",
       "      <td>104.55</td>\n",
       "      <td>100</td>\n",
       "    </tr>\n",
       "    <tr>\n",
       "      <th>2011-11-01 08:53:07.459</th>\n",
       "      <td>104.43</td>\n",
       "      <td>150</td>\n",
       "    </tr>\n",
       "    <tr>\n",
       "      <th>2011-11-01 08:53:09.284</th>\n",
       "      <td>104.43</td>\n",
       "      <td>100</td>\n",
       "    </tr>\n",
       "    <tr>\n",
       "      <th>2011-11-01 08:54:03.921</th>\n",
       "      <td>104.50</td>\n",
       "      <td>100</td>\n",
       "    </tr>\n",
       "    <tr>\n",
       "      <th>2011-11-01 08:58:06.162</th>\n",
       "      <td>104.46</td>\n",
       "      <td>1000</td>\n",
       "    </tr>\n",
       "  </tbody>\n",
       "</table>\n",
       "</div>"
      ],
      "text/plain": [
       "                          Price  Volume\n",
       "Timestamp                              \n",
       "2011-11-01 08:04:56.364  104.55     100\n",
       "2011-11-01 08:53:07.459  104.43     150\n",
       "2011-11-01 08:53:09.284  104.43     100\n",
       "2011-11-01 08:54:03.921  104.50     100\n",
       "2011-11-01 08:58:06.162  104.46    1000"
      ]
     },
     "execution_count": 21,
     "metadata": {},
     "output_type": "execute_result"
    }
   ],
   "source": [
    "ticks.head()"
   ]
  },
  {
   "cell_type": "code",
   "execution_count": 22,
   "metadata": {},
   "outputs": [
    {
     "data": {
      "text/html": [
       "<div>\n",
       "<style scoped>\n",
       "    .dataframe tbody tr th:only-of-type {\n",
       "        vertical-align: middle;\n",
       "    }\n",
       "\n",
       "    .dataframe tbody tr th {\n",
       "        vertical-align: top;\n",
       "    }\n",
       "\n",
       "    .dataframe thead th {\n",
       "        text-align: right;\n",
       "    }\n",
       "</style>\n",
       "<table border=\"1\" class=\"dataframe\">\n",
       "  <thead>\n",
       "    <tr style=\"text-align: right;\">\n",
       "      <th></th>\n",
       "      <th>Price</th>\n",
       "      <th>Volume</th>\n",
       "    </tr>\n",
       "    <tr>\n",
       "      <th>Timestamp</th>\n",
       "      <th></th>\n",
       "      <th></th>\n",
       "    </tr>\n",
       "  </thead>\n",
       "  <tbody>\n",
       "    <tr>\n",
       "      <th>2011-11-01 08:04:56.364</th>\n",
       "      <td>NaN</td>\n",
       "      <td>NaN</td>\n",
       "    </tr>\n",
       "    <tr>\n",
       "      <th>2011-11-01 08:53:07.459</th>\n",
       "      <td>104.55</td>\n",
       "      <td>100.0</td>\n",
       "    </tr>\n",
       "    <tr>\n",
       "      <th>2011-11-01 08:53:09.284</th>\n",
       "      <td>104.43</td>\n",
       "      <td>150.0</td>\n",
       "    </tr>\n",
       "    <tr>\n",
       "      <th>2011-11-01 08:54:03.921</th>\n",
       "      <td>104.43</td>\n",
       "      <td>100.0</td>\n",
       "    </tr>\n",
       "    <tr>\n",
       "      <th>2011-11-01 08:58:06.162</th>\n",
       "      <td>104.50</td>\n",
       "      <td>100.0</td>\n",
       "    </tr>\n",
       "  </tbody>\n",
       "</table>\n",
       "</div>"
      ],
      "text/plain": [
       "                          Price  Volume\n",
       "Timestamp                              \n",
       "2011-11-01 08:04:56.364     NaN     NaN\n",
       "2011-11-01 08:53:07.459  104.55   100.0\n",
       "2011-11-01 08:53:09.284  104.43   150.0\n",
       "2011-11-01 08:54:03.921  104.43   100.0\n",
       "2011-11-01 08:58:06.162  104.50   100.0"
      ]
     },
     "execution_count": 22,
     "metadata": {},
     "output_type": "execute_result"
    }
   ],
   "source": [
    "# shift data\n",
    "ticks.shift(1).head()"
   ]
  },
  {
   "cell_type": "code",
   "execution_count": 23,
   "metadata": {},
   "outputs": [
    {
     "data": {
      "text/html": [
       "<div>\n",
       "<style scoped>\n",
       "    .dataframe tbody tr th:only-of-type {\n",
       "        vertical-align: middle;\n",
       "    }\n",
       "\n",
       "    .dataframe tbody tr th {\n",
       "        vertical-align: top;\n",
       "    }\n",
       "\n",
       "    .dataframe thead th {\n",
       "        text-align: right;\n",
       "    }\n",
       "</style>\n",
       "<table border=\"1\" class=\"dataframe\">\n",
       "  <thead>\n",
       "    <tr style=\"text-align: right;\">\n",
       "      <th></th>\n",
       "      <th>Price</th>\n",
       "      <th>Volume</th>\n",
       "    </tr>\n",
       "    <tr>\n",
       "      <th>Timestamp</th>\n",
       "      <th></th>\n",
       "      <th></th>\n",
       "    </tr>\n",
       "  </thead>\n",
       "  <tbody>\n",
       "    <tr>\n",
       "      <th>2011-11-01 08:04:56.364</th>\n",
       "      <td>104.43</td>\n",
       "      <td>150.0</td>\n",
       "    </tr>\n",
       "    <tr>\n",
       "      <th>2011-11-01 08:53:07.459</th>\n",
       "      <td>104.43</td>\n",
       "      <td>100.0</td>\n",
       "    </tr>\n",
       "    <tr>\n",
       "      <th>2011-11-01 08:53:09.284</th>\n",
       "      <td>104.50</td>\n",
       "      <td>100.0</td>\n",
       "    </tr>\n",
       "    <tr>\n",
       "      <th>2011-11-01 08:54:03.921</th>\n",
       "      <td>104.46</td>\n",
       "      <td>1000.0</td>\n",
       "    </tr>\n",
       "    <tr>\n",
       "      <th>2011-11-01 08:58:06.162</th>\n",
       "      <td>104.46</td>\n",
       "      <td>1000.0</td>\n",
       "    </tr>\n",
       "  </tbody>\n",
       "</table>\n",
       "</div>"
      ],
      "text/plain": [
       "                          Price  Volume\n",
       "Timestamp                              \n",
       "2011-11-01 08:04:56.364  104.43   150.0\n",
       "2011-11-01 08:53:07.459  104.43   100.0\n",
       "2011-11-01 08:53:09.284  104.50   100.0\n",
       "2011-11-01 08:54:03.921  104.46  1000.0\n",
       "2011-11-01 08:58:06.162  104.46  1000.0"
      ]
     },
     "execution_count": 23,
     "metadata": {},
     "output_type": "execute_result"
    }
   ],
   "source": [
    "ticks.shift(-1).head()"
   ]
  },
  {
   "cell_type": "code",
   "execution_count": 24,
   "metadata": {},
   "outputs": [
    {
     "data": {
      "text/html": [
       "<div>\n",
       "<style scoped>\n",
       "    .dataframe tbody tr th:only-of-type {\n",
       "        vertical-align: middle;\n",
       "    }\n",
       "\n",
       "    .dataframe tbody tr th {\n",
       "        vertical-align: top;\n",
       "    }\n",
       "\n",
       "    .dataframe thead th {\n",
       "        text-align: right;\n",
       "    }\n",
       "</style>\n",
       "<table border=\"1\" class=\"dataframe\">\n",
       "  <thead>\n",
       "    <tr style=\"text-align: right;\">\n",
       "      <th></th>\n",
       "      <th>Price</th>\n",
       "      <th>Volume</th>\n",
       "    </tr>\n",
       "    <tr>\n",
       "      <th>Timestamp</th>\n",
       "      <th></th>\n",
       "      <th></th>\n",
       "    </tr>\n",
       "  </thead>\n",
       "  <tbody>\n",
       "    <tr>\n",
       "      <th>2011-11-01 08:05:56.364</th>\n",
       "      <td>104.55</td>\n",
       "      <td>100</td>\n",
       "    </tr>\n",
       "    <tr>\n",
       "      <th>2011-11-01 08:54:07.459</th>\n",
       "      <td>104.43</td>\n",
       "      <td>150</td>\n",
       "    </tr>\n",
       "    <tr>\n",
       "      <th>2011-11-01 08:54:09.284</th>\n",
       "      <td>104.43</td>\n",
       "      <td>100</td>\n",
       "    </tr>\n",
       "    <tr>\n",
       "      <th>2011-11-01 08:55:03.921</th>\n",
       "      <td>104.50</td>\n",
       "      <td>100</td>\n",
       "    </tr>\n",
       "    <tr>\n",
       "      <th>2011-11-01 08:59:06.162</th>\n",
       "      <td>104.46</td>\n",
       "      <td>1000</td>\n",
       "    </tr>\n",
       "  </tbody>\n",
       "</table>\n",
       "</div>"
      ],
      "text/plain": [
       "                          Price  Volume\n",
       "Timestamp                              \n",
       "2011-11-01 08:05:56.364  104.55     100\n",
       "2011-11-01 08:54:07.459  104.43     150\n",
       "2011-11-01 08:54:09.284  104.43     100\n",
       "2011-11-01 08:55:03.921  104.50     100\n",
       "2011-11-01 08:59:06.162  104.46    1000"
      ]
     },
     "execution_count": 24,
     "metadata": {},
     "output_type": "execute_result"
    }
   ],
   "source": [
    "# shift index\n",
    "ticks.tshift(1, 'min').head()"
   ]
  },
  {
   "cell_type": "code",
   "execution_count": 25,
   "metadata": {},
   "outputs": [
    {
     "data": {
      "text/plain": [
       "Timestamp\n",
       "2011-11-01 09:30:00    0.000192\n",
       "2011-11-01 09:31:00   -0.000192\n",
       "2011-11-01 09:32:00    0.000000\n",
       "2011-11-01 09:33:00   -0.000096\n",
       "2011-11-01 09:34:00    0.000000\n",
       "dtype: float64"
      ]
     },
     "execution_count": 25,
     "metadata": {},
     "output_type": "execute_result"
    }
   ],
   "source": [
    "mr = minute_return.between_time('9:30', '16:00')\n",
    "mr.head()"
   ]
  },
  {
   "cell_type": "code",
   "execution_count": 26,
   "metadata": {},
   "outputs": [
    {
     "data": {
      "text/plain": [
       "Timestamp\n",
       "2011-11-01 09:30:00         NaN\n",
       "2011-11-01 09:31:00    0.000192\n",
       "2011-11-01 09:32:00   -0.000192\n",
       "2011-11-01 09:33:00    0.000000\n",
       "2011-11-01 09:34:00   -0.000096\n",
       "dtype: float64"
      ]
     },
     "execution_count": 26,
     "metadata": {},
     "output_type": "execute_result"
    }
   ],
   "source": [
    "lagged = mr.shift(1)\n",
    "lagged.head()"
   ]
  },
  {
   "cell_type": "code",
   "execution_count": 27,
   "metadata": {},
   "outputs": [
    {
     "data": {
      "text/plain": [
       "Timestamp\n",
       "2011-11-01 10:00:00    0.009464\n",
       "2011-11-01 10:01:00    0.033932\n",
       "2011-11-01 10:02:00    0.001009\n",
       "2011-11-01 10:03:00    0.001059\n",
       "2011-11-01 10:04:00    0.001160\n",
       "Name: Volume, dtype: float64"
      ]
     },
     "execution_count": 27,
     "metadata": {},
     "output_type": "execute_result"
    }
   ],
   "source": [
    "vol = vol.groupby(vol.index.day).transform(lambda x: x/x.sum())\n",
    "vol.head()"
   ]
  },
  {
   "cell_type": "code",
   "execution_count": 28,
   "metadata": {},
   "outputs": [
    {
     "data": {
      "text/plain": [
       "Timestamp\n",
       "2011-11-01    1.0\n",
       "2011-11-02    1.0\n",
       "2011-11-03    1.0\n",
       "Freq: D, Name: Volume, dtype: float64"
      ]
     },
     "execution_count": 28,
     "metadata": {},
     "output_type": "execute_result"
    }
   ],
   "source": [
    "vol.resample('D').sum()"
   ]
  },
  {
   "cell_type": "code",
   "execution_count": 29,
   "metadata": {},
   "outputs": [],
   "source": [
    "hour = vol.index.hour\n",
    "hourly_volume = vol.groupby(hour).mean()"
   ]
  },
  {
   "cell_type": "code",
   "execution_count": 30,
   "metadata": {},
   "outputs": [
    {
     "data": {
      "image/png": "[encoded data removed]",
      "text/plain": [
       "<Figure size 432x288 with 1 Axes>"
      ]
     },
     "metadata": {
      "needs_background": "light"
     },
     "output_type": "display_data"
    }
   ],
   "source": [
    "hourly_volume.plot(kind='bar')\n",
    "plt.show()"
   ]
  },
  {
   "cell_type": "markdown",
   "metadata": {},
   "source": [
    "### Date range"
   ]
  },
  {
   "cell_type": "code",
   "execution_count": 31,
   "metadata": {},
   "outputs": [
    {
     "data": {
      "text/plain": [
       "DatetimeIndex(['2005-01-31', '2005-02-28', '2005-03-31', '2005-04-30',\n",
       "               '2005-05-31', '2005-06-30', '2005-07-31', '2005-08-31',\n",
       "               '2005-09-30', '2005-10-31', '2005-11-30', '2005-12-31',\n",
       "               '2006-01-31', '2006-02-28', '2006-03-31', '2006-04-30',\n",
       "               '2006-05-31', '2006-06-30', '2006-07-31', '2006-08-31',\n",
       "               '2006-09-30', '2006-10-31', '2006-11-30', '2006-12-31',\n",
       "               '2007-01-31', '2007-02-28', '2007-03-31', '2007-04-30',\n",
       "               '2007-05-31', '2007-06-30', '2007-07-31', '2007-08-31',\n",
       "               '2007-09-30', '2007-10-31', '2007-11-30', '2007-12-31',\n",
       "               '2008-01-31', '2008-02-29', '2008-03-31', '2008-04-30',\n",
       "               '2008-05-31', '2008-06-30', '2008-07-31', '2008-08-31',\n",
       "               '2008-09-30', '2008-10-31', '2008-11-30', '2008-12-31',\n",
       "               '2009-01-31', '2009-02-28', '2009-03-31', '2009-04-30',\n",
       "               '2009-05-31', '2009-06-30', '2009-07-31', '2009-08-31',\n",
       "               '2009-09-30', '2009-10-31', '2009-11-30', '2009-12-31',\n",
       "               '2010-01-31', '2010-02-28', '2010-03-31', '2010-04-30',\n",
       "               '2010-05-31', '2010-06-30', '2010-07-31', '2010-08-31',\n",
       "               '2010-09-30', '2010-10-31', '2010-11-30', '2010-12-31',\n",
       "               '2011-01-31', '2011-02-28', '2011-03-31', '2011-04-30',\n",
       "               '2011-05-31', '2011-06-30', '2011-07-31', '2011-08-31',\n",
       "               '2011-09-30', '2011-10-31', '2011-11-30', '2011-12-31'],\n",
       "              dtype='datetime64[ns]', freq='M')"
      ]
     },
     "execution_count": 31,
     "metadata": {},
     "output_type": "execute_result"
    }
   ],
   "source": [
    "rng = pd.date_range('2005', '2012', freq='M')\n",
    "rng"
   ]
  },
  {
   "cell_type": "code",
   "execution_count": 32,
   "metadata": {},
   "outputs": [
    {
     "data": {
      "text/plain": [
       "DatetimeIndex(['2005-01-31', '2005-02-28', '2005-03-31', '2005-04-30',\n",
       "               '2005-05-31', '2005-06-30', '2005-07-31', '2005-08-31',\n",
       "               '2005-09-30', '2005-10-31', '2005-11-30', '2005-12-31',\n",
       "               '2006-01-31', '2006-02-28', '2006-03-31', '2006-04-30',\n",
       "               '2006-05-31', '2006-06-30', '2006-07-31', '2006-08-31',\n",
       "               '2006-09-30', '2006-10-31', '2006-11-30', '2006-12-31',\n",
       "               '2007-01-31', '2007-02-28', '2007-03-31', '2007-04-30',\n",
       "               '2007-05-31', '2007-06-30', '2007-07-31', '2007-08-31',\n",
       "               '2007-09-30', '2007-10-31', '2007-11-30', '2007-12-31',\n",
       "               '2008-01-31', '2008-02-29', '2008-03-31', '2008-04-30',\n",
       "               '2008-05-31', '2008-06-30', '2008-07-31', '2008-08-31',\n",
       "               '2008-09-30', '2008-10-31', '2008-11-30', '2008-12-31',\n",
       "               '2009-01-31', '2009-02-28', '2009-03-31', '2009-04-30',\n",
       "               '2009-05-31', '2009-06-30', '2009-07-31', '2009-08-31',\n",
       "               '2009-09-30', '2009-10-31', '2009-11-30', '2009-12-31',\n",
       "               '2010-01-31', '2010-02-28', '2010-03-31', '2010-04-30',\n",
       "               '2010-05-31', '2010-06-30', '2010-07-31', '2010-08-31',\n",
       "               '2010-09-30', '2010-10-31', '2010-11-30', '2010-12-31',\n",
       "               '2011-01-31', '2011-02-28', '2011-03-31', '2011-04-30',\n",
       "               '2011-05-31', '2011-06-30', '2011-07-31', '2011-08-31',\n",
       "               '2011-09-30', '2011-10-31', '2011-11-30', '2011-12-31'],\n",
       "              dtype='datetime64[ns]', freq='M')"
      ]
     },
     "execution_count": 32,
     "metadata": {},
     "output_type": "execute_result"
    }
   ],
   "source": [
    "pd.date_range('2005', periods=7*12, freq='M')"
   ]
  },
  {
   "cell_type": "code",
   "execution_count": 33,
   "metadata": {},
   "outputs": [
    {
     "data": {
      "text/plain": [
       "DatetimeIndex(['2005-03-31', '2005-06-30', '2005-09-30', '2005-12-31'], dtype='datetime64[ns]', freq='Q-DEC')"
      ]
     },
     "execution_count": 33,
     "metadata": {},
     "output_type": "execute_result"
    }
   ],
   "source": [
    "pd.date_range('2005', periods=4, freq='Q')"
   ]
  },
  {
   "cell_type": "code",
   "execution_count": 34,
   "metadata": {},
   "outputs": [
    {
     "data": {
      "text/plain": [
       "DatetimeIndex(['2005-02-28', '2005-05-31', '2005-08-31', '2005-11-30'], dtype='datetime64[ns]', freq='Q-NOV')"
      ]
     },
     "execution_count": 34,
     "metadata": {},
     "output_type": "execute_result"
    }
   ],
   "source": [
    "pd.date_range('2005', periods=4, freq='Q-NOV')"
   ]
  },
  {
   "cell_type": "code",
   "execution_count": 35,
   "metadata": {},
   "outputs": [
    {
     "data": {
      "text/plain": [
       "DatetimeIndex(['2012-10-28', '2012-11-04', '2012-11-11'], dtype='datetime64[ns]', freq='W-SUN')"
      ]
     },
     "execution_count": 35,
     "metadata": {},
     "output_type": "execute_result"
    }
   ],
   "source": [
    "wkrng = pd.date_range('2012-10-25', periods=3, freq='W')\n",
    "wkrng"
   ]
  },
  {
   "cell_type": "code",
   "execution_count": 36,
   "metadata": {},
   "outputs": [
    {
     "data": {
      "text/plain": [
       "6"
      ]
     },
     "execution_count": 36,
     "metadata": {},
     "output_type": "execute_result"
    }
   ],
   "source": [
    "wkrng[0].dayofweek"
   ]
  },
  {
   "cell_type": "code",
   "execution_count": 37,
   "metadata": {},
   "outputs": [
    {
     "data": {
      "text/plain": [
       "True"
      ]
     },
     "execution_count": 37,
     "metadata": {},
     "output_type": "execute_result"
    }
   ],
   "source": [
    "# DatetimeIndex is a subclass of Index\n",
    "isinstance(rng, pd.Index)"
   ]
  },
  {
   "cell_type": "code",
   "execution_count": 38,
   "metadata": {},
   "outputs": [
    {
     "data": {
      "text/plain": [
       "DatetimeIndex(['2005-03-31', '2005-04-30'], dtype='datetime64[ns]', freq='M')"
      ]
     },
     "execution_count": 38,
     "metadata": {},
     "output_type": "execute_result"
    }
   ],
   "source": [
    "rng[2:4]"
   ]
  },
  {
   "cell_type": "markdown",
   "metadata": {},
   "source": [
    "### Time zone"
   ]
  },
  {
   "cell_type": "code",
   "execution_count": 39,
   "metadata": {},
   "outputs": [
    {
     "data": {
      "text/plain": [
       "Timestamp('2005-01-31 00:00:00', freq='M')"
      ]
     },
     "execution_count": 39,
     "metadata": {},
     "output_type": "execute_result"
    }
   ],
   "source": [
    "rng.tz\n",
    "d = rng[0]\n",
    "d"
   ]
  },
  {
   "cell_type": "code",
   "execution_count": 40,
   "metadata": {},
   "outputs": [],
   "source": [
    "localized = rng.tz_localize('US/Eastern')"
   ]
  },
  {
   "cell_type": "code",
   "execution_count": 41,
   "metadata": {},
   "outputs": [
    {
     "data": {
      "text/plain": [
       "Timestamp('2005-01-31 00:00:00-0500', tz='US/Eastern', freq='M')"
      ]
     },
     "execution_count": 41,
     "metadata": {},
     "output_type": "execute_result"
    }
   ],
   "source": [
    "localized[0]"
   ]
  },
  {
   "cell_type": "code",
   "execution_count": 42,
   "metadata": {},
   "outputs": [
    {
     "data": {
      "text/plain": [
       "PeriodIndex(['2005', '2006', '2007', '2008', '2009', '2010', '2011', '2012'], dtype='period[A-DEC]', freq='A-DEC')"
      ]
     },
     "execution_count": 42,
     "metadata": {},
     "output_type": "execute_result"
    }
   ],
   "source": [
    "# period\n",
    "pd.period_range('2005', '2012', freq='A')"
   ]
  },
  {
   "cell_type": "code",
   "execution_count": 43,
   "metadata": {},
   "outputs": [
    {
     "data": {
      "text/plain": [
       "PeriodIndex(['2005', '2006', '2007', '2008', '2009', '2010', '2011'], dtype='period[A-DEC]', freq='A-DEC')"
      ]
     },
     "execution_count": 43,
     "metadata": {},
     "output_type": "execute_result"
    }
   ],
   "source": [
    "prng = pd.period_range('2005', periods=7, freq='A')\n",
    "prng"
   ]
  },
  {
   "cell_type": "markdown",
   "metadata": {},
   "source": [
    "### Converting between time"
   ]
  },
  {
   "cell_type": "code",
   "execution_count": 44,
   "metadata": {},
   "outputs": [
    {
     "data": {
      "text/plain": [
       "Period('2005', 'A-DEC')"
      ]
     },
     "execution_count": 44,
     "metadata": {},
     "output_type": "execute_result"
    }
   ],
   "source": [
    "p = pd.Period('2005', 'A')\n",
    "p"
   ]
  },
  {
   "cell_type": "code",
   "execution_count": 45,
   "metadata": {},
   "outputs": [
    {
     "data": {
      "text/plain": [
       "Timestamp('2005-01-01 00:00:00')"
      ]
     },
     "execution_count": 45,
     "metadata": {},
     "output_type": "execute_result"
    }
   ],
   "source": [
    "p.to_timestamp()"
   ]
  },
  {
   "cell_type": "code",
   "execution_count": 46,
   "metadata": {},
   "outputs": [
    {
     "data": {
      "text/plain": [
       "Timestamp('2005-01-31 00:00:00')"
      ]
     },
     "execution_count": 46,
     "metadata": {},
     "output_type": "execute_result"
    }
   ],
   "source": [
    "p.to_timestamp('M', 's')"
   ]
  },
  {
   "cell_type": "code",
   "execution_count": 47,
   "metadata": {},
   "outputs": [
    {
     "data": {
      "text/plain": [
       "Timestamp('2005-12-31 23:59:59.999999999')"
      ]
     },
     "execution_count": 47,
     "metadata": {},
     "output_type": "execute_result"
    }
   ],
   "source": [
    "p.to_timestamp('M', 'e')"
   ]
  },
  {
   "cell_type": "code",
   "execution_count": 48,
   "metadata": {},
   "outputs": [
    {
     "data": {
      "text/plain": [
       "Timestamp('2005-12-31 23:59:59.999999999')"
      ]
     },
     "execution_count": 48,
     "metadata": {},
     "output_type": "execute_result"
    }
   ],
   "source": [
    "p.end_time"
   ]
  },
  {
   "cell_type": "code",
   "execution_count": 49,
   "metadata": {},
   "outputs": [
    {
     "data": {
      "text/plain": [
       "DatetimeIndex(['2005-12-31 23:59:59.999999999',\n",
       "               '2006-12-31 23:59:59.999999999',\n",
       "               '2007-12-31 23:59:59.999999999',\n",
       "               '2008-12-31 23:59:59.999999999',\n",
       "               '2009-12-31 23:59:59.999999999',\n",
       "               '2010-12-31 23:59:59.999999999',\n",
       "               '2011-12-31 23:59:59.999999999'],\n",
       "              dtype='datetime64[ns]', freq='A-DEC')"
      ]
     },
     "execution_count": 49,
     "metadata": {},
     "output_type": "execute_result"
    }
   ],
   "source": [
    "prng.to_timestamp(how='e')"
   ]
  },
  {
   "cell_type": "code",
   "execution_count": 50,
   "metadata": {},
   "outputs": [
    {
     "data": {
      "text/plain": [
       "DatetimeIndex(['2005-12-31 23:59:59.999999999',\n",
       "               '2006-12-31 23:59:59.999999999',\n",
       "               '2007-12-31 23:59:59.999999999',\n",
       "               '2008-12-31 23:59:59.999999999',\n",
       "               '2009-12-31 23:59:59.999999999',\n",
       "               '2010-12-31 23:59:59.999999999',\n",
       "               '2011-12-31 23:59:59.999999999'],\n",
       "              dtype='datetime64[ns]', freq='A-DEC')"
      ]
     },
     "execution_count": 50,
     "metadata": {},
     "output_type": "execute_result"
    }
   ],
   "source": [
    "prng.to_timestamp('M', 'e')"
   ]
  },
  {
   "cell_type": "code",
   "execution_count": 51,
   "metadata": {},
   "outputs": [
    {
     "data": {
      "text/plain": [
       "DatetimeIndex(['2005-01-31', '2005-02-28', '2005-03-31', '2005-04-30',\n",
       "               '2005-05-31', '2005-06-30', '2005-07-31', '2005-08-31',\n",
       "               '2005-09-30', '2005-10-31', '2005-11-30', '2005-12-31',\n",
       "               '2006-01-31', '2006-02-28', '2006-03-31', '2006-04-30',\n",
       "               '2006-05-31', '2006-06-30', '2006-07-31', '2006-08-31',\n",
       "               '2006-09-30', '2006-10-31', '2006-11-30', '2006-12-31',\n",
       "               '2007-01-31', '2007-02-28', '2007-03-31', '2007-04-30',\n",
       "               '2007-05-31', '2007-06-30', '2007-07-31', '2007-08-31',\n",
       "               '2007-09-30', '2007-10-31', '2007-11-30', '2007-12-31',\n",
       "               '2008-01-31', '2008-02-29', '2008-03-31', '2008-04-30',\n",
       "               '2008-05-31', '2008-06-30', '2008-07-31', '2008-08-31',\n",
       "               '2008-09-30', '2008-10-31', '2008-11-30', '2008-12-31',\n",
       "               '2009-01-31', '2009-02-28', '2009-03-31', '2009-04-30',\n",
       "               '2009-05-31', '2009-06-30', '2009-07-31', '2009-08-31',\n",
       "               '2009-09-30', '2009-10-31', '2009-11-30', '2009-12-31',\n",
       "               '2010-01-31', '2010-02-28', '2010-03-31', '2010-04-30',\n",
       "               '2010-05-31', '2010-06-30', '2010-07-31', '2010-08-31',\n",
       "               '2010-09-30', '2010-10-31', '2010-11-30', '2010-12-31',\n",
       "               '2011-01-31', '2011-02-28', '2011-03-31', '2011-04-30',\n",
       "               '2011-05-31', '2011-06-30', '2011-07-31', '2011-08-31',\n",
       "               '2011-09-30', '2011-10-31', '2011-11-30', '2011-12-31'],\n",
       "              dtype='datetime64[ns]', freq='M')"
      ]
     },
     "execution_count": 51,
     "metadata": {},
     "output_type": "execute_result"
    }
   ],
   "source": [
    "rng"
   ]
  },
  {
   "cell_type": "code",
   "execution_count": 52,
   "metadata": {},
   "outputs": [
    {
     "data": {
      "text/plain": [
       "PeriodIndex(['2005-01', '2005-02', '2005-03', '2005-04', '2005-05', '2005-06',\n",
       "             '2005-07', '2005-08', '2005-09', '2005-10', '2005-11', '2005-12',\n",
       "             '2006-01', '2006-02', '2006-03', '2006-04', '2006-05', '2006-06',\n",
       "             '2006-07', '2006-08', '2006-09', '2006-10', '2006-11', '2006-12',\n",
       "             '2007-01', '2007-02', '2007-03', '2007-04', '2007-05', '2007-06',\n",
       "             '2007-07', '2007-08', '2007-09', '2007-10', '2007-11', '2007-12',\n",
       "             '2008-01', '2008-02', '2008-03', '2008-04', '2008-05', '2008-06',\n",
       "             '2008-07', '2008-08', '2008-09', '2008-10', '2008-11', '2008-12',\n",
       "             '2009-01', '2009-02', '2009-03', '2009-04', '2009-05', '2009-06',\n",
       "             '2009-07', '2009-08', '2009-09', '2009-10', '2009-11', '2009-12',\n",
       "             '2010-01', '2010-02', '2010-03', '2010-04', '2010-05', '2010-06',\n",
       "             '2010-07', '2010-08', '2010-09', '2010-10', '2010-11', '2010-12',\n",
       "             '2011-01', '2011-02', '2011-03', '2011-04', '2011-05', '2011-06',\n",
       "             '2011-07', '2011-08', '2011-09', '2011-10', '2011-11', '2011-12'],\n",
       "            dtype='period[M]', freq='M')"
      ]
     },
     "execution_count": 52,
     "metadata": {},
     "output_type": "execute_result"
    }
   ],
   "source": [
    "rng.to_period()"
   ]
  },
  {
   "cell_type": "code",
   "execution_count": 53,
   "metadata": {},
   "outputs": [
    {
     "data": {
      "text/plain": [
       "PeriodIndex(['2005-01-31/2005-02-06', '2005-02-28/2005-03-06',\n",
       "             '2005-03-28/2005-04-03', '2005-04-25/2005-05-01',\n",
       "             '2005-05-30/2005-06-05', '2005-06-27/2005-07-03',\n",
       "             '2005-07-25/2005-07-31', '2005-08-29/2005-09-04',\n",
       "             '2005-09-26/2005-10-02', '2005-10-31/2005-11-06',\n",
       "             '2005-11-28/2005-12-04', '2005-12-26/2006-01-01',\n",
       "             '2006-01-30/2006-02-05', '2006-02-27/2006-03-05',\n",
       "             '2006-03-27/2006-04-02', '2006-04-24/2006-04-30',\n",
       "             '2006-05-29/2006-06-04', '2006-06-26/2006-07-02',\n",
       "             '2006-07-31/2006-08-06', '2006-08-28/2006-09-03',\n",
       "             '2006-09-25/2006-10-01', '2006-10-30/2006-11-05',\n",
       "             '2006-11-27/2006-12-03', '2006-12-25/2006-12-31',\n",
       "             '2007-01-29/2007-02-04', '2007-02-26/2007-03-04',\n",
       "             '2007-03-26/2007-04-01', '2007-04-30/2007-05-06',\n",
       "             '2007-05-28/2007-06-03', '2007-06-25/2007-07-01',\n",
       "             '2007-07-30/2007-08-05', '2007-08-27/2007-09-02',\n",
       "             '2007-09-24/2007-09-30', '2007-10-29/2007-11-04',\n",
       "             '2007-11-26/2007-12-02', '2007-12-31/2008-01-06',\n",
       "             '2008-01-28/2008-02-03', '2008-02-25/2008-03-02',\n",
       "             '2008-03-31/2008-04-06', '2008-04-28/2008-05-04',\n",
       "             '2008-05-26/2008-06-01', '2008-06-30/2008-07-06',\n",
       "             '2008-07-28/2008-08-03', '2008-08-25/2008-08-31',\n",
       "             '2008-09-29/2008-10-05', '2008-10-27/2008-11-02',\n",
       "             '2008-11-24/2008-11-30', '2008-12-29/2009-01-04',\n",
       "             '2009-01-26/2009-02-01', '2009-02-23/2009-03-01',\n",
       "             '2009-03-30/2009-04-05', '2009-04-27/2009-05-03',\n",
       "             '2009-05-25/2009-05-31', '2009-06-29/2009-07-05',\n",
       "             '2009-07-27/2009-08-02', '2009-08-31/2009-09-06',\n",
       "             '2009-09-28/2009-10-04', '2009-10-26/2009-11-01',\n",
       "             '2009-11-30/2009-12-06', '2009-12-28/2010-01-03',\n",
       "             '2010-01-25/2010-01-31', '2010-02-22/2010-02-28',\n",
       "             '2010-03-29/2010-04-04', '2010-04-26/2010-05-02',\n",
       "             '2010-05-31/2010-06-06', '2010-06-28/2010-07-04',\n",
       "             '2010-07-26/2010-08-01', '2010-08-30/2010-09-05',\n",
       "             '2010-09-27/2010-10-03', '2010-10-25/2010-10-31',\n",
       "             '2010-11-29/2010-12-05', '2010-12-27/2011-01-02',\n",
       "             '2011-01-31/2011-02-06', '2011-02-28/2011-03-06',\n",
       "             '2011-03-28/2011-04-03', '2011-04-25/2011-05-01',\n",
       "             '2011-05-30/2011-06-05', '2011-06-27/2011-07-03',\n",
       "             '2011-07-25/2011-07-31', '2011-08-29/2011-09-04',\n",
       "             '2011-09-26/2011-10-02', '2011-10-31/2011-11-06',\n",
       "             '2011-11-28/2011-12-04', '2011-12-26/2012-01-01'],\n",
       "            dtype='period[W-SUN]', freq='W-SUN')"
      ]
     },
     "execution_count": 53,
     "metadata": {},
     "output_type": "execute_result"
    }
   ],
   "source": [
    "rng.to_period('W')"
   ]
  }
 ],
 "metadata": {
  "kernelspec": {
   "display_name": "Python 3",
   "language": "python",
   "name": "python3"
  },
  "language_info": {
   "codemirror_mode": {
    "name": "ipython",
    "version": 3
   },
   "file_extension": ".py",
   "mimetype": "text/x-python",
   "name": "python",
   "nbconvert_exporter": "python",
   "pygments_lexer": "ipython3",
   "version": "3.6.9"
  }
 },
 "nbformat": 4,
 "nbformat_minor": 2
}
